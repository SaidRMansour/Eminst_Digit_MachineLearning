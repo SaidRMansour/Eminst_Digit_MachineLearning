{
  "cells": [
    {
      "cell_type": "markdown",
      "metadata": {
        "id": "view-in-github",
        "colab_type": "text"
      },
      "source": [
        "<a href=\"https://colab.research.google.com/github/SaidRMansour/Eminst_Digit_MachineLearning/blob/main/EMNIST_DIGITS_exam2024.ipynb\" target=\"_parent\"><img src=\"https://colab.research.google.com/assets/colab-badge.svg\" alt=\"Open In Colab\"/></a>"
      ]
    },
    {
      "cell_type": "markdown",
      "metadata": {
        "id": "8V5n7e1UUhDP"
      },
      "source": [
        "# Loading and preparation of data\n"
      ]
    },
    {
      "cell_type": "code",
      "execution_count": null,
      "metadata": {
        "id": "wP7npJUTf1LJ"
      },
      "outputs": [],
      "source": [
        "import pandas as pd\n",
        "import numpy as np\n",
        "from sklearn.model_selection import train_test_split\n",
        "\n",
        "# Indlæser data fra CSV-filer\n",
        "train_data_path = 'emnist-digits-train.csv'  # Fil med træningsdata\n",
        "test_data_path = 'emnist-digits-test.csv'    # Fil med testdata\n",
        "\n",
        "# Læser CSV-filer til pandas DataFrames\n",
        "train_df = pd.read_csv(train_data_path)\n",
        "test_df = pd.read_csv(test_data_path)\n",
        "\n",
        "# Konverterer DataFrames til numpy arrays for lettere håndtering\n",
        "train_data = train_df.to_numpy()\n",
        "test_data = test_df.to_numpy()\n",
        "\n",
        "# Splitter data op i features (X) og labels (y), og normaliserer pixelværdierne\n",
        "X_train = train_data[:, 1:] / 255.0\n",
        "y_train = train_data[:, 0]\n",
        "\n",
        "X_test = test_data[:, 1:] / 255.0\n",
        "y_test = test_data[:, 0]\n"
      ]
    },
    {
      "cell_type": "markdown",
      "metadata": {
        "id": "mvHlcxbYaixw"
      },
      "source": [
        "# Selection, training and fine-tuning of a model\n"
      ]
    },
    {
      "cell_type": "code",
      "execution_count": null,
      "metadata": {
        "colab": {
          "background_save": true
        },
        "id": "A5bhURqdf-xz",
        "outputId": "93a087f0-7f8d-43f6-cdc2-ca807b1378ba"
      },
      "outputs": [
        {
          "ename": "NameError",
          "evalue": "name 'grid_search' is not defined",
          "output_type": "error",
          "traceback": [
            "\u001b[0;31m---------------------------------------------------------------------------\u001b[0m",
            "\u001b[0;31mNameError\u001b[0m                                 Traceback (most recent call last)",
            "\u001b[0;32m<ipython-input-2-4de8ac98f9c8>\u001b[0m in \u001b[0;36m<cell line: 28>\u001b[0;34m()\u001b[0m\n\u001b[1;32m     26\u001b[0m \u001b[0;34m\u001b[0m\u001b[0m\n\u001b[1;32m     27\u001b[0m \u001b[0;31m# Printer de bedste parametre og nøjagtigheden for den bedste model\u001b[0m\u001b[0;34m\u001b[0m\u001b[0;34m\u001b[0m\u001b[0m\n\u001b[0;32m---> 28\u001b[0;31m \u001b[0mprint\u001b[0m\u001b[0;34m(\u001b[0m\u001b[0;34m\"Bedste parametre fundet:\"\u001b[0m\u001b[0;34m,\u001b[0m \u001b[0mgrid_search\u001b[0m\u001b[0;34m.\u001b[0m\u001b[0mbest_params_\u001b[0m\u001b[0;34m)\u001b[0m\u001b[0;34m\u001b[0m\u001b[0;34m\u001b[0m\u001b[0m\n\u001b[0m\u001b[1;32m     29\u001b[0m \u001b[0mprint\u001b[0m\u001b[0;34m(\u001b[0m\u001b[0;34m\"Bedste nøjagtighed opnået:\"\u001b[0m\u001b[0;34m,\u001b[0m \u001b[0mgrid_search\u001b[0m\u001b[0;34m.\u001b[0m\u001b[0mbest_score_\u001b[0m\u001b[0;34m)\u001b[0m\u001b[0;34m\u001b[0m\u001b[0;34m\u001b[0m\u001b[0m\n",
            "\u001b[0;31mNameError\u001b[0m: name 'grid_search' is not defined"
          ]
        }
      ],
      "source": [
        "# Importerer og træner en RandomForestClassifier\n",
        "from sklearn.ensemble import RandomForestClassifier\n",
        "from sklearn.impute import SimpleImputer\n",
        "from sklearn.model_selection import GridSearchCV\n",
        "\n",
        "# Sætter parameter som bruges til fine-tuning\n",
        "params = {'max_depth': [40, 70],'n_estimators': [600, 1000]}\n",
        "\n",
        "\n",
        "# Bruger imputer til at håndtere manglende data, hvis der er nogle\n",
        "imputer = SimpleImputer(strategy='median')\n",
        "\n",
        "# Finder medianværdier for træningsdata og erstatter manglende data\n",
        "X_train_imputed = imputer.fit_transform(X_train)\n",
        "\n",
        "# Anvender de samme medianværdier til at erstatte manglende data i testdata\n",
        "X_test_imputed = imputer.transform(X_test)\n",
        "\n",
        "grid_search_cv = GridSearchCV(RandomForestClassifier(random_state=42), params, n_jobs=-1, cv=3)\n",
        "\n",
        "#rfc = RandomForestClassifier(max_depth=40, n_estimators=500, n_jobs=-1, random_state=42, verbose=2)\n",
        "\n",
        "# Træner modellen igen med de opdaterede data\n",
        "#rfc.fit(X_train_imputed, y_train)\n",
        "grid_search_cv.fit(X_train_imputed, y_train)\n",
        "\n",
        "# Printer de bedste parametre og nøjagtigheden for den bedste model\n",
        "print(\"Bedste parametre fundet:\", grid_search.best_params_)\n",
        "print(\"Bedste nøjagtighed opnået:\", grid_search.best_score_)\n"
      ]
    },
    {
      "cell_type": "code",
      "execution_count": null,
      "metadata": {
        "colab": {
          "background_save": true
        },
        "id": "fnKuFNtWkmDD"
      },
      "outputs": [],
      "source": [
        "# Viser bedste estimat\n",
        "grid_search_cv.best_estimator_"
      ]
    },
    {
      "cell_type": "markdown",
      "metadata": {
        "id": "FMi24G26nXps"
      },
      "source": [
        "## Old method (without fine-tuning)"
      ]
    },
    {
      "cell_type": "code",
      "execution_count": null,
      "metadata": {
        "id": "RuffmTUOndo1"
      },
      "outputs": [],
      "source": [
        "\"\"\"\n",
        "from sklearn.ensemble import RandomForestClassifier\n",
        "from sklearn.impute import SimpleImputer\n",
        "\n",
        "# Bruger imputer til at håndtere manglende data, hvis der er nogle\n",
        "imputer = SimpleImputer(strategy='median')\n",
        "\n",
        "# Finder medianværdier for træningsdata og erstatter manglende data\n",
        "X_train_imputed = imputer.fit_transform(X_train)\n",
        "\n",
        "# Anvender de samme medianværdier til at erstatte manglende data i testdata\n",
        "X_test_imputed = imputer.transform(X_test)\n",
        "\n",
        "rfc = RandomForestClassifier(max_depth=40, n_estimators=500, n_jobs=-1, random_state=42, verbose=2)\n",
        "\n",
        "# Træner modellen igen med de opdaterede data\n",
        "rfc.fit(X_train_imputed, y_train)\n",
        "\"\"\""
      ]
    },
    {
      "cell_type": "markdown",
      "metadata": {
        "id": "-3m5GtwxarcJ"
      },
      "source": [
        "# Evaluation of the model\n",
        "\n"
      ]
    },
    {
      "cell_type": "code",
      "execution_count": null,
      "metadata": {
        "colab": {
          "background_save": true
        },
        "id": "x2XRzTergDHX"
      },
      "outputs": [],
      "source": [
        "from sklearn.metrics import accuracy_score\n",
        "\n",
        "# Laver forudsigelser på testdata og udregner nøjagtigheden\n",
        "y_pred = rfc.predict(X_test_imputed)\n",
        "accuracy = accuracy_score(y_test, y_pred)\n",
        "print(f\"Nøjagtighed af modellen: {accuracy}\")\n",
        "\n",
        "# Evalueringen af \"old method\": Accur: 0.94"
      ]
    }
  ],
  "metadata": {
    "colab": {
      "provenance": [],
      "authorship_tag": "ABX9TyPQybXiahFssHccs9pdUr/W",
      "include_colab_link": true
    },
    "kernelspec": {
      "display_name": "Python 3",
      "name": "python3"
    },
    "language_info": {
      "name": "python"
    }
  },
  "nbformat": 4,
  "nbformat_minor": 0
}